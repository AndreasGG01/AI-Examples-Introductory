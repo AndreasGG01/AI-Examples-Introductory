{
 "cells": [
  {
   "cell_type": "code",
   "execution_count": 41,
   "id": "feaa4e4b",
   "metadata": {},
   "outputs": [],
   "source": [
    "from heading import*\n",
    "from mdp import*"
   ]
  },
  {
   "cell_type": "markdown",
   "id": "87053fa4",
   "metadata": {},
   "source": [
    "The rewards are +1 and -1 in the terminal states with the other states being -0.025 in the rest. The map is a GridMDP object as shown below. \n",
    "<img src=\"DUEmap.png\">"
   ]
  },
  {
   "cell_type": "code",
   "execution_count": 42,
   "id": "58880161",
   "metadata": {},
   "outputs": [],
   "source": [
    "R_s = -0.025"
   ]
  },
  {
   "cell_type": "code",
   "execution_count": 43,
   "id": "e8124c38",
   "metadata": {},
   "outputs": [],
   "source": [
    "maps = [(R_s, R_s, R_s, R_s, R_s, None),\n",
    "        (R_s, R_s, R_s, R_s, +1, R_s),\n",
    "        (R_s, None, -1, None, R_s, R_s),\n",
    "        (R_s, R_s, R_s, -1, R_s, R_s),\n",
    "        (R_s, R_s, R_s, None, R_s, R_s),\n",
    "        (R_s, R_s, R_s, R_s, R_s, R_s)]"
   ]
  },
  {
   "cell_type": "code",
   "execution_count": 44,
   "id": "cb30d57a",
   "metadata": {},
   "outputs": [],
   "source": [
    "terminals = [(2,3), (3,2), (4,4)]"
   ]
  },
  {
   "cell_type": "code",
   "execution_count": 45,
   "id": "b494a7f0",
   "metadata": {},
   "outputs": [],
   "source": [
    "gamma = 0.9\n",
    "intended = 0.84\n",
    "left = 0.08\n",
    "right = 0.08"
   ]
  },
  {
   "cell_type": "code",
   "execution_count": 46,
   "id": "da519987",
   "metadata": {},
   "outputs": [],
   "source": [
    "environment = GridMDP(maps, terminals, gamma, intended, left, right)"
   ]
  },
  {
   "cell_type": "markdown",
   "id": "3e194ead",
   "metadata": {},
   "source": [
    "The states are defined by the following graph:\n",
    "<img src=\"DUEmap_directions.png\"> "
   ]
  },
  {
   "cell_type": "code",
   "execution_count": 47,
   "id": "9b39d4c3",
   "metadata": {},
   "outputs": [],
   "source": [
    "north = (0,1)\n",
    "south = (0,-1)\n",
    "west = (-1,0)\n",
    "east = (1,0)"
   ]
  },
  {
   "cell_type": "code",
   "execution_count": 48,
   "id": "dd16749e",
   "metadata": {},
   "outputs": [],
   "source": [
    "policy = {\n",
    "    (0,5): east, (1,5): east, (2,5): east, (3,5): east, (4,5): south, \n",
    "    (0,4): east, (1,4): east, (2,4): east, (3,4): east, (4,4): None, (5,4): west,\n",
    "    (0,3): east,              (2,3): None,              (4,3): north, (5,3): north,\n",
    "    (0,2): north, (1,2): east, (2,2): east, (3,2): None, (4,2): north, (5,2): north, \n",
    "    (0,1): north, (1,1): north, (2,1): north,           (4,1): north, (5,1): north,\n",
    "    (0,0): east, (1,0): east, (2,0): east, (3,0): east, (4,0):north, (5,0): north,\n",
    "} "
   ]
  },
  {
   "cell_type": "code",
   "execution_count": 49,
   "id": "f0b91c04",
   "metadata": {},
   "outputs": [],
   "source": [
    "DUEAgent = PassiveDUEAgent(policy, environment)"
   ]
  },
  {
   "cell_type": "code",
   "execution_count": 50,
   "id": "4f9ce79d",
   "metadata": {},
   "outputs": [],
   "source": [
    "for i in range(500):\n",
    "    run_single_trial(DUEAgent, environment)"
   ]
  },
  {
   "cell_type": "code",
   "execution_count": 51,
   "id": "4d0718d2",
   "metadata": {},
   "outputs": [
    {
     "name": "stdout",
     "output_type": "stream",
     "text": [
      "(4, 4):1.0\n",
      "(4, 0):0.40003067794926184\n",
      "(0, 0):-0.06504148598186515\n",
      "(4, 3):0.9654906198378703\n",
      "(2, 0):0.345395887797073\n",
      "(4, 2):0.4514311715714757\n",
      "(3, 0):0.3735953047224361\n",
      "(1, 0):-0.04004085732514551\n",
      "(4, 1):0.42642266563135023\n",
      "(2, 1):-1.0531525675673168\n",
      "(2, 2):-1.0250002511777097\n",
      "(3, 2):-1.0\n",
      "(5, 3):0.9308553613547205\n",
      "(5, 4):0.9656173436777347\n",
      "(5, 1):0.879531268046318\n",
      "(5, 0):0.856619039650468\n",
      "(5, 2):0.9085416432673339\n",
      "(1, 2):-1.057130519934781\n",
      "(1, 1):-1.0805306159920502\n",
      "(2, 3):-1.0\n",
      "(0, 1):-0.2444023263086561\n",
      "(2, 4):0.9499261373690387\n",
      "(0, 4):0.8987783632512447\n",
      "(3, 4):0.9749204634921624\n",
      "(0, 3):0.7709745325593348\n",
      "(1, 4):0.924918472205718\n",
      "(0, 2):0.6447788287749974\n",
      "(4, 5):0.9716796875\n",
      "(2, 5):0.90927734375\n",
      "(3, 5):0.940234375\n",
      "(1, 5):0.8875\n",
      "(0, 5):0.85625\n"
     ]
    }
   ],
   "source": [
    "print('\\n'.join([str(k)+':'+str(v) for k, v in DUEAgent.U.items()]))"
   ]
  },
  {
   "cell_type": "code",
   "execution_count": 24,
   "id": "4efbca53",
   "metadata": {},
   "outputs": [
    {
     "name": "stdout",
     "output_type": "stream",
     "text": [
      "discount factor used in policy iteration is 0.9\n"
     ]
    },
    {
     "data": {
      "text/plain": [
       "{(4, 0): (0, 1),\n",
       " (3, 4): (1, 0),\n",
       " (4, 3): (0, 1),\n",
       " (5, 4): (-1, 0),\n",
       " (5, 1): (0, 1),\n",
       " (0, 2): (0, 1),\n",
       " (0, 5): (1, 0),\n",
       " (2, 2): (0, -1),\n",
       " (1, 0): (1, 0),\n",
       " (2, 5): (1, 0),\n",
       " (4, 2): (0, 1),\n",
       " (3, 0): (1, 0),\n",
       " (4, 5): (0, -1),\n",
       " (5, 0): (0, 1),\n",
       " (5, 3): (0, 1),\n",
       " (0, 1): (0, 1),\n",
       " (2, 4): (1, 0),\n",
       " (1, 2): (-1, 0),\n",
       " (0, 4): (1, 0),\n",
       " (2, 1): (0, -1),\n",
       " (1, 5): (1, 0),\n",
       " (3, 2): None,\n",
       " (4, 1): (0, 1),\n",
       " (3, 5): (1, 0),\n",
       " (5, 2): (0, 1),\n",
       " (4, 4): None,\n",
       " (0, 0): (1, 0),\n",
       " (1, 1): (1, 0),\n",
       " (0, 3): (0, 1),\n",
       " (2, 0): (1, 0),\n",
       " (1, 4): (1, 0),\n",
       " (2, 3): None}"
      ]
     },
     "execution_count": 24,
     "metadata": {},
     "output_type": "execute_result"
    }
   ],
   "source": [
    "policy_iteration(environment)"
   ]
  },
  {
   "cell_type": "code",
   "execution_count": null,
   "id": "f71ed989",
   "metadata": {},
   "outputs": [],
   "source": []
  },
  {
   "cell_type": "code",
   "execution_count": null,
   "id": "a5700cbd",
   "metadata": {},
   "outputs": [],
   "source": []
  },
  {
   "cell_type": "code",
   "execution_count": null,
   "id": "19ce1d79",
   "metadata": {},
   "outputs": [],
   "source": []
  }
 ],
 "metadata": {
  "kernelspec": {
   "display_name": "Python 3",
   "language": "python",
   "name": "python3"
  },
  "language_info": {
   "codemirror_mode": {
    "name": "ipython",
    "version": 3
   },
   "file_extension": ".py",
   "mimetype": "text/x-python",
   "name": "python",
   "nbconvert_exporter": "python",
   "pygments_lexer": "ipython3",
   "version": "3.8.8"
  }
 },
 "nbformat": 4,
 "nbformat_minor": 5
}
